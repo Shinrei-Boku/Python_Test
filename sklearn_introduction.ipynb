{
  "nbformat": 4,
  "nbformat_minor": 0,
  "metadata": {
    "colab": {
      "name": "sklearn_introduction.ipynb",
      "provenance": [],
      "collapsed_sections": []
    },
    "kernelspec": {
      "name": "python3",
      "display_name": "Python 3"
    }
  },
  "cells": [
    {
      "cell_type": "markdown",
      "metadata": {
        "id": "view-in-github"
      },
      "source": [
        "<a href=\"https://colab.research.google.com/github/yukinaga/minnano_ai/blob/master/section_6/sklearn_introduction.ipynb\" target=\"_parent\"><img src=\"https://colab.research.google.com/assets/colab-badge.svg\" alt=\"Open In Colab\"/></a>"
      ]
    },
    {
      "cell_type": "markdown",
      "metadata": {
        "id": "M4EuXGAwVneP"
      },
      "source": [
        "# scikit-learnの導入\n",
        "機械学習ライブラリscikit-learnの使い方に慣れていきましょう。  \n",
        "今回は、導入としてIrisの品種分類を行います。"
      ]
    },
    {
      "cell_type": "markdown",
      "metadata": {
        "id": "H9JwSqmLW1LI"
      },
      "source": [
        "## ● Iris dataset\n",
        "Setosa、Versicolor、Versinicaの3つの品種について、以下をグラフ表示します。  \n",
        "* Sepal length\n",
        "* Sepal width\n",
        "* Petal length\n",
        "* Petal width"
      ]
    },
    {
      "cell_type": "code",
      "metadata": {
        "id": "zY7eY5fylEMt",
        "colab": {
          "base_uri": "https://localhost:8080/",
          "height": 544
        },
        "outputId": "1b1f555a-df0d-43c0-d325-accd61db018a"
      },
      "source": [
        "import numpy as np\n",
        "import matplotlib.pyplot as plt\n",
        "from sklearn import datasets\n",
        "\n",
        "# Irisデータの読み込み\n",
        "iris = datasets.load_iris()\n",
        "\n",
        "# 各花のサイズ\n",
        "iris_data = iris.data\n",
        "\n",
        "# 散布図で表示\n",
        "st_data = iris_data[:50]  # Setosa\n",
        "vc_data = iris_data[50:100]  # Versicolor\n",
        "vn_data = iris_data[100:150]  # Versinica\n",
        "\n",
        "plt.scatter(st_data[:, 0], st_data[:, 1], label=\"Setosa\")  # Sepal lengthとSepal width\n",
        "plt.scatter(vc_data[:, 0], vc_data[:, 1], label=\"Versicolor\")  # Sepal lengthとSepal width\n",
        "plt.scatter(vn_data[:, 0], vn_data[:, 1], label=\"Versinica\")  # Sepal lengthとSepal width\n",
        "plt.legend()\n",
        "plt.xlabel(\"Sepal length (cm)\")\n",
        "plt.ylabel(\"Sepal width (cm)\")\n",
        "plt.show()\n",
        "\n",
        "plt.scatter(st_data[:, 2], st_data[:, 3], label=\"Setosa\")  # Petal lengthとPetal width\n",
        "plt.scatter(vc_data[:, 2], vc_data[:, 3], label=\"Versicolor\")  # Petal lengthとPetal width\n",
        "plt.scatter(vn_data[:, 2], vn_data[:, 3], label=\"Versinica\")  # Petal lengthとPetal width\n",
        "plt.legend()\n",
        "plt.xlabel(\"Petal length (cm)\")\n",
        "plt.ylabel(\"Petal width (cm)\")\n",
        "plt.show()"
      ],
      "execution_count": 1,
      "outputs": [
        {
          "output_type": "display_data",
          "data": {
            "image/png": "[encoded data removed]",
            "text/plain": [
              "<Figure size 432x288 with 1 Axes>"
            ]
          },
          "metadata": {
            "tags": [],
            "needs_background": "light"
          }
        },
        {
          "output_type": "display_data",
          "data": {
            "image/png": "[encoded data removed]",
            "text/plain": [
              "<Figure size 432x288 with 1 Axes>"
            ]
          },
          "metadata": {
            "tags": [],
            "needs_background": "light"
          }
        }
      ]
    },
    {
      "cell_type": "markdown",
      "metadata": {
        "id": "TLe5C3PXYY0Z"
      },
      "source": [
        "## ● サポートベクターマシン\n",
        "scikit-learnには様々な機械学習のアルゴリズムが含まれています。  \n",
        "今回は、サポートベクターマシンという手法によりIrisの品種分類を行います。  \n",
        "サポートベクターマシンのインスタンスを生成し、`fit`メソッドを実行するのみで分類を行うことが可能です。"
      ]
    },
    {
      "cell_type": "code",
      "metadata": {
        "id": "PGFXpAn1IhWz"
      },
      "source": [
        "from sklearn import datasets\n",
        "from sklearn import svm\n",
        "\n",
        "iris = datasets.load_iris()\n",
        "# print(iris.target)  # 品種を表すラベル 0:Setosa、1:Versicolor、2:Versinica\n",
        "\n",
        "clf = svm.SVC()  # サポートベクターマシーン\n",
        "clf.fit(iris.data, iris.target)  # 訓練\n",
        "\n",
        "# 品種の判定 (Sepal length, Sepal width, Petal length, Petal width)\n",
        "print(clf.predict([[5.1, 3.5, 1.4, 0.1], [6.5, 2.5, 4.4, 1.4], [5.9, 3.0, 6.2, 2.0]]))"
      ],
      "execution_count": null,
      "outputs": []
    },
    {
      "cell_type": "code",
      "metadata": {
        "id": "8ypnyOBboTQb",
        "colab": {
          "base_uri": "https://localhost:8080/"
        },
        "outputId": "8aab77f9-ba1f-4807-ca24-ef44beacd96e"
      },
      "source": [
        "# コード練習用\n",
        "from sklearn import datasets\n",
        "from sklearn import svm\n",
        "\n",
        "iris = datasets.load_iris()\n",
        "#print(iris.target)\n",
        "\n",
        "clf = svm.SVC()  # サポートベクターマシーン\n",
        "clf.fit(iris.data, iris.target)  # 訓練\n",
        "\n",
        "# 品種の判定 (Sepal length, Sepal width, Petal length, Petal width)\n",
        "print(clf.predict([[4.1, 3.5, 1.4, 0.1], [6.5, 2.5, 4.4, 1.4], [5.9, 3.0, 6.2, 1.5]]))"
      ],
      "execution_count": 6,
      "outputs": [
        {
          "output_type": "stream",
          "text": [
            "[0 1 2]\n"
          ],
          "name": "stdout"
        }
      ]
    }
  ]
}