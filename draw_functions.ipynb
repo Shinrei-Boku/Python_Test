{
  "nbformat": 4,
  "nbformat_minor": 0,
  "metadata": {
    "colab": {
      "name": "draw_functions.ipynb",
      "provenance": [],
      "collapsed_sections": []
    },
    "kernelspec": {
      "name": "python3",
      "display_name": "Python 3"
    }
  },
  "cells": [
    {
      "cell_type": "markdown",
      "metadata": {
        "id": "view-in-github"
      },
      "source": [
        "<a href=\"https://colab.research.google.com/github/yukinaga/minnano_ai/blob/master/section_3/draw_functions.ipynb\" target=\"_parent\"><img src=\"https://colab.research.google.com/assets/colab-badge.svg\" alt=\"Open In Colab\"/></a>"
      ]
    },
    {
      "cell_type": "markdown",
      "metadata": {
        "id": "9NE8hsuDrdJZ"
      },
      "source": [
        "# 関数の描画\n",
        "数学の関数をグラフで描画します。  \n",
        "*注: 数学における「関数」とプログラミングにおける「関数」は共通点もありますが、基本的に異なるものなので注意しましょう。*"
      ]
    },
    {
      "cell_type": "markdown",
      "metadata": {
        "id": "rFCoJpZRXp9X"
      },
      "source": [
        "## ● NumPyの配列\n",
        "**NumPy**を使うことで、大量のデータを効率よく扱うことができます。  \n",
        "また、NumPyは数学の計算に有用な多くの機能を持っています。  \n",
        "NumPyの基本となるのは、多数の値が入った**配列**です。  \n",
        "以下のコードは、リストから配列を作って表示します。"
      ]
    },
    {
      "cell_type": "code",
      "metadata": {
        "id": "fGH2H0l5zfRZ"
      },
      "source": [
        "import numpy as np  # NumPyの導入。以降npという名前でNumPyを使用できる。\n",
        "\n",
        "a = [0, 1, 2, 3, 4, 5]\n",
        "b = np.array(a)  # リストからNumPyの配列を作る\n",
        "print(b) "
      ],
      "execution_count": null,
      "outputs": []
    },
    {
      "cell_type": "code",
      "metadata": {
        "id": "KFRa9EJ8jiPi",
        "colab": {
          "base_uri": "https://localhost:8080/"
        },
        "outputId": "b323ea91-0920-4131-d894-7e94d456b1ff"
      },
      "source": [
        "# コード練習用\n",
        "import numpy as np\n",
        "\n",
        "a = [0,1, 2, 3, 4, 5]\n",
        "b = np.array(a)\n",
        "print(b)"
      ],
      "execution_count": 3,
      "outputs": [
        {
          "output_type": "stream",
          "text": [
            "[0 1 2 3 4 5]\n"
          ],
          "name": "stdout"
        }
      ]
    },
    {
      "cell_type": "markdown",
      "metadata": {
        "id": "5N8K7N_ji-5h"
      },
      "source": [
        "## ● linspace\n",
        "NumPyの**linspace**により、値が並んだ配列を作ることができます。  \n",
        "linspace関数では範囲を指定し、その区間を標準で50に区切ります。\n"
      ]
    },
    {
      "cell_type": "code",
      "metadata": {
        "id": "dXKe38ZT4jMH"
      },
      "source": [
        "import numpy as np\n",
        "\n",
        "x = np.linspace(-5, 5)  # -5から5まで50に区切る\n",
        "\n",
        "print(x)\n",
        "print(len(x))  # xの要素数"
      ],
      "execution_count": null,
      "outputs": []
    },
    {
      "cell_type": "code",
      "metadata": {
        "id": "LB6CYiSDl11M",
        "colab": {
          "base_uri": "https://localhost:8080/"
        },
        "outputId": "5bb3ae80-b2bc-4034-d408-1ab1f810d7e3"
      },
      "source": [
        "# コード練習用\n",
        "import numpy as np\n",
        "\n",
        "x = np.linspace(-5, 5)\n",
        "x3 = np.linspace(-5, 5, 10)\n",
        "print(x)\n",
        "print(len(x))\n",
        "print(x3)\n",
        "print(len(x3))\n",
        "\n",
        "x1 = np.arange(-5, 5, 2)\n",
        "x2 = np.arange(-5, 5)\n",
        "print(x1)\n",
        "print(len(x1))\n",
        "print(x2)\n",
        "print(len(x2))"
      ],
      "execution_count": 30,
      "outputs": [
        {
          "output_type": "stream",
          "text": [
            "[-5.         -4.79591837 -4.59183673 -4.3877551  -4.18367347 -3.97959184\n",
            " -3.7755102  -3.57142857 -3.36734694 -3.16326531 -2.95918367 -2.75510204\n",
            " -2.55102041 -2.34693878 -2.14285714 -1.93877551 -1.73469388 -1.53061224\n",
            " -1.32653061 -1.12244898 -0.91836735 -0.71428571 -0.51020408 -0.30612245\n",
            " -0.10204082  0.10204082  0.30612245  0.51020408  0.71428571  0.91836735\n",
            "  1.12244898  1.32653061  1.53061224  1.73469388  1.93877551  2.14285714\n",
            "  2.34693878  2.55102041  2.75510204  2.95918367  3.16326531  3.36734694\n",
            "  3.57142857  3.7755102   3.97959184  4.18367347  4.3877551   4.59183673\n",
            "  4.79591837  5.        ]\n",
            "50\n",
            "[-5.         -3.88888889 -2.77777778 -1.66666667 -0.55555556  0.55555556\n",
            "  1.66666667  2.77777778  3.88888889  5.        ]\n",
            "10\n",
            "[-5 -3 -1  1  3]\n",
            "5\n",
            "[-5 -4 -3 -2 -1  0  1  2  3  4]\n",
            "10\n"
          ],
          "name": "stdout"
        }
      ]
    },
    {
      "cell_type": "markdown",
      "metadata": {
        "id": "1ySuK9Nd_dtC"
      },
      "source": [
        "このような等間隔の配列は、グラフにおけるx軸の値として使われます。"
      ]
    },
    {
      "cell_type": "markdown",
      "metadata": {
        "id": "ZpuMOwshAGCq"
      },
      "source": [
        "## ● 一次関数\n",
        "以下の一次関数をグラフに描画します。 \n",
        "\n",
        "$$y=2x+1$$\n",
        "\n",
        "以下のコードでは、`x`に2をかけて1を足して`y`の値とすることで上記の式を表現しています。  \n",
        "グラフの描画には、matplotlibのpyplotを使います。  "
      ]
    },
    {
      "cell_type": "markdown",
      "metadata": {
        "id": "2dv8TSWdNHnD"
      },
      "source": [
        "#### 数式の練習用\n",
        "$$y = 2x + 1$$\n"
      ]
    },
    {
      "cell_type": "code",
      "metadata": {
        "id": "YxBb5PXV4eq5"
      },
      "source": [
        "import numpy as np\n",
        "import matplotlib.pyplot as plt\n",
        "\n",
        "x = np.linspace(-5, 5)  # -5から5まで\n",
        "y = 2*x + 1  # xに2をかけて1を足しy座標とする\n",
        "\n",
        "plt.plot(x, y)  # x、yをプロット\n",
        "plt.show()  # グラフの表示"
      ],
      "execution_count": null,
      "outputs": []
    },
    {
      "cell_type": "code",
      "metadata": {
        "id": "zHh3poXOl3_I",
        "colab": {
          "base_uri": "https://localhost:8080/",
          "height": 265
        },
        "outputId": "85b58f06-35ed-46d7-dd2f-a2d44f91e86d"
      },
      "source": [
        "# コード練習用\n",
        "import numpy as np\n",
        "import matplotlib.pyplot as plt\n",
        "\n",
        "x - np.linspace(-5, 5)\n",
        "y = 2*x + 1\n",
        "\n",
        "plt.plot(x, y, label=\"yy\")\n",
        "plt.show()"
      ],
      "execution_count": 15,
      "outputs": [
        {
          "output_type": "display_data",
          "data": {
            "image/png": "[encoded data removed]",
            "text/plain": [
              "<Figure size 432x288 with 1 Axes>"
            ]
          },
          "metadata": {
            "tags": [],
            "needs_background": "light"
          }
        }
      ]
    },
    {
      "cell_type": "markdown",
      "metadata": {
        "id": "qLMJak2dM5X_"
      },
      "source": [
        "## ● グラフの装飾\n",
        "グラフの装飾をしましょう。  \n",
        "matplotlibでは軸のラベル、タイトル、グリッド、凡例などを表示することができます。   \n",
        "以下の2つの一次関数を描画します。 \n",
        "\n",
        "$$y=1.5x$$\n",
        "$$y=-2x+1$$"
      ]
    },
    {
      "cell_type": "markdown",
      "metadata": {
        "id": "fo1SX9I5Z5MA"
      },
      "source": [
        "#### 数式の練習用\n",
        "$$y=1.5x$$\n",
        "$$y=-2x+1$$"
      ]
    },
    {
      "cell_type": "code",
      "metadata": {
        "id": "oiuJb16P-lFc"
      },
      "source": [
        "import numpy as np\n",
        "import matplotlib.pyplot as plt\n",
        "\n",
        "x =  np.linspace(-3, 3)   # xの範囲を指定\n",
        "y_1 = 1.5*x  # xに演算を行いy_1とする\n",
        "y_2 = -2*x + 1  # xに演算を行いy_2とする\n",
        "\n",
        "# 軸のラベル\n",
        "plt.xlabel(\"x value\", size=14)\n",
        "plt.ylabel(\"y value\", size=14)\n",
        "\n",
        "# グラフのタイトル\n",
        "plt.title(\"My Graph\")\n",
        "\n",
        "# グリッドの表示\n",
        "plt.grid()\n",
        "\n",
        "# プロット 凡例と線のスタイルを指定\n",
        "plt.plot(x, y_1, label=\"y1\")\n",
        "plt.plot(x, y_2, label=\"y2\", linestyle=\"dashed\")\n",
        "plt.legend() # 凡例を表示\n",
        "\n",
        "plt.show()"
      ],
      "execution_count": null,
      "outputs": []
    },
    {
      "cell_type": "code",
      "metadata": {
        "id": "VIS-Mx0Jl5kM",
        "colab": {
          "base_uri": "https://localhost:8080/",
          "height": 299
        },
        "outputId": "d52d589f-55ec-4430-99db-8f57b5e16d4f"
      },
      "source": [
        "# コード練習用\n",
        "import numpy as np\n",
        "import matplotlib.pyplot as plt\n",
        "\n",
        "x = np.linspace(-3, 3)\n",
        "y_1 = 1.5*x\n",
        "y_2 = -2*x + 1\n",
        "\n",
        "plt.xlabel(\"x value\", size=14)\n",
        "plt.ylabel(\"y value\", size=14)\n",
        "\n",
        "plt.title(\"My Graph\")\n",
        "\n",
        "plt.grid()\n",
        "\n",
        "plt.plot(x, y_1, label=\"y1\")\n",
        "plt.plot(x, y_2, label=\"y2\", linestyle = \"dashed\")\n",
        "plt.legend()\n",
        "\n",
        "plt.show()\n",
        "\n",
        "\n",
        "\n"
      ],
      "execution_count": 11,
      "outputs": [
        {
          "output_type": "display_data",
          "data": {
            "image/png": "[encoded data removed]",
            "text/plain": [
              "<Figure size 432x288 with 1 Axes>"
            ]
          },
          "metadata": {
            "tags": [],
            "needs_background": "light"
          }
        }
      ]
    },
    {
      "cell_type": "markdown",
      "metadata": {
        "id": "24e1U9mTeHJf"
      },
      "source": [
        "## ● 二次関数、三次関数\n",
        "以下の一次関数、二次関数、三次関数を描画します。 \n",
        "\n",
        "$$y=2x+1$$\n",
        "$$y=x^2-4$$\n",
        "$$y=0.5x^3-6x$$"
      ]
    },
    {
      "cell_type": "markdown",
      "metadata": {
        "id": "ZU9Q56LAhiK2"
      },
      "source": [
        "#### 数式の練習用\n",
        "$$y=2x+1$$\n",
        "$$y=x^2-4$$\n",
        "$$y=0.5x^3-6$$"
      ]
    },
    {
      "cell_type": "code",
      "metadata": {
        "id": "9H_KoCCg8KCE"
      },
      "source": [
        "import numpy as np\n",
        "import matplotlib.pyplot as plt\n",
        "\n",
        "x = np.linspace(-4, 4)  # -4から4まで\n",
        "y_1 = 2*x + 1\n",
        "y_2 = x**2 - 4\n",
        "y_3 = 0.5*x**3 - 6*x\n",
        "\n",
        "plt.plot(x, y_1, label=\"1st\")\n",
        "plt.plot(x, y_2, label=\"2nd\")\n",
        "plt.plot(x, y_3, label=\"3rd\")\n",
        "plt.legend()\n",
        "\n",
        "plt.xlabel(\"x\", size=14)\n",
        "plt.ylabel(\"y\", size=14)\n",
        "plt.grid()\n",
        "plt.show()"
      ],
      "execution_count": null,
      "outputs": []
    },
    {
      "cell_type": "code",
      "metadata": {
        "id": "S3vSZqrVl6_n",
        "colab": {
          "base_uri": "https://localhost:8080/",
          "height": 293
        },
        "outputId": "33b8556a-008f-48c5-b532-ce529d642e1f"
      },
      "source": [
        "# コード練習用\n",
        "import numpy as np\n",
        "import matplotlib.pyplot as plt\n",
        "\n",
        "x = np.linspace(-4, 4)\n",
        "y_1 = 2*x + 1\n",
        "y_2 = x**2 - 4\n",
        "y_3 = 0.5*x**3 - 6\n",
        "\n",
        "plt.plot(x, y_1, label=\"1st\")\n",
        "plt.plot(x, y_2, label=\"2nd\")\n",
        "plt.plot(x, y_3, label=\"3rd\")\n",
        "plt.legend()\n",
        "\n",
        "plt.xlabel(\"x\", size=24)\n",
        "plt.ylabel(\"y\", size=14)\n",
        "plt.grid()\n",
        "plt.show()"
      ],
      "execution_count": 21,
      "outputs": [
        {
          "output_type": "display_data",
          "data": {
            "image/png": "[encoded data removed]",
            "text/plain": [
              "<Figure size 432x288 with 1 Axes>"
            ]
          },
          "metadata": {
            "tags": [],
            "needs_background": "light"
          }
        }
      ]
    }
  ]
}