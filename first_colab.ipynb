{
  "nbformat": 4,
  "nbformat_minor": 0,
  "metadata": {
    "colab": {
      "name": "first_colab.ipynb",
      "provenance": [],
      "collapsed_sections": []
    },
    "kernelspec": {
      "name": "python3",
      "display_name": "Python 3"
    },
    "language_info": {
      "name": "python"
    }
  },
  "cells": [
    {
      "cell_type": "code",
      "metadata": {
        "colab": {
          "base_uri": "https://localhost:8080/"
        },
        "id": "08dy8btXT9OM",
        "outputId": "85e8315b-d172-4b5a-fb57-9e91a38c08fd"
      },
      "source": [
        "print(\"Hello Word!\")"
      ],
      "execution_count": null,
      "outputs": [
        {
          "output_type": "stream",
          "text": [
            "Hello Word!\n"
          ],
          "name": "stdout"
        }
      ]
    },
    {
      "cell_type": "code",
      "metadata": {
        "colab": {
          "base_uri": "https://localhost:8080/"
        },
        "id": "ySCQ6cr3U69I",
        "outputId": "c6b90a40-50df-49b6-82c2-9369a055233f"
      },
      "source": [
        "a =3\n",
        "b = 4\n",
        "print(a + b )"
      ],
      "execution_count": null,
      "outputs": [
        {
          "output_type": "stream",
          "text": [
            "7\n"
          ],
          "name": "stdout"
        }
      ]
    },
    {
      "cell_type": "code",
      "metadata": {
        "id": "vsCPuzUeVSZK"
      },
      "source": [
        ""
      ],
      "execution_count": null,
      "outputs": []
    },
    {
      "cell_type": "markdown",
      "metadata": {
        "id": "po1Nza7eWT0w"
      },
      "source": [
        "**Python**で*人工知能*のコードを書いていきましょう。  \n",
        "Colabにはコードセルとテキストセルがあります。\n",
        "\n",
        "1.   リスト項目\n",
        "2.   リスト項目\n",
        "3.番号付きの箇条書きです\n",
        "\n",
        "\n",
        "\n",
        "*   リスト項目\n",
        "*   リスト項目\n",
        "*　箇条書きです\n",
        "\n",
        "[Google検索](https://google.com)\n",
        "\n",
        "#みんなのAI講座\n",
        "## みんなの日本語\n",
        "### みんなのニュース\n",
        "\n",
        "\n",
        "\n",
        "\n",
        "\n",
        "\n"
      ]
    },
    {
      "cell_type": "markdown",
      "metadata": {
        "id": "P3qimBLCX3pw"
      },
      "source": [
        "$$ y = 2x + 1 $$"
      ]
    }
  ]
}