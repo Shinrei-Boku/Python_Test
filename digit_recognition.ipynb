{
  "nbformat": 4,
  "nbformat_minor": 0,
  "metadata": {
    "colab": {
      "name": "digit_recognition.ipynb",
      "provenance": [],
      "collapsed_sections": []
    },
    "kernelspec": {
      "name": "python3",
      "display_name": "Python 3"
    }
  },
  "cells": [
    {
      "cell_type": "markdown",
      "metadata": {
        "id": "view-in-github"
      },
      "source": [
        "<a href=\"https://colab.research.google.com/github/yukinaga/minnano_ai/blob/master/section_6/digit_recognition.ipynb\" target=\"_parent\"><img src=\"https://colab.research.google.com/assets/colab-badge.svg\" alt=\"Open In Colab\"/></a>"
      ]
    },
    {
      "cell_type": "markdown",
      "metadata": {
        "id": "R_N6frOra6B1"
      },
      "source": [
        "# 手書き文字の認識\n",
        "scikit-learnを使って手書き文字の認識を行います。  \n",
        "今回は、0-9までの手書き数字データを使ってサポートベクターマシンを訓練し、未知の手書き文字画像の分類を行います。  "
      ]
    },
    {
      "cell_type": "markdown",
      "metadata": {
        "id": "D0kwjLG6dr18"
      },
      "source": [
        "## ● 手書き数字データ\n",
        "手書き文字のデータセットですが、今回もscikit-learnのdatasetsから入手します。  \n",
        "このデータセットには、0から9までの手書き数字の画像が多数含まれています。  \n",
        "また、それらの画像がどの数値を表しているのか示すラベルも一緒になっています。  \n",
        "以下は、scikit-learnのdatasetsから手書き文字のデータセットを取得し、画像データの形状及び最初の画像を表示するコードです。  \n",
        "画像のサイズは8x8ピクセルで、1797枚あります。  "
      ]
    },
    {
      "cell_type": "code",
      "metadata": {
        "id": "PORSPMy29MAr"
      },
      "source": [
        "from sklearn import datasets\n",
        "from sklearn import svm\n",
        "import matplotlib.pyplot as plt\n",
        "\n",
        "# 数字画像データの読み込み\n",
        "digits = datasets.load_digits()\n",
        "\n",
        "print(\"--- 画像データ ---\")\n",
        "print(digits.images[0])\n",
        "print(digits.images.shape)\n",
        "print(\"--- 1次元画像データ ---\")\n",
        "print(digits.data[0])\n",
        "print(digits.data.shape)\n",
        "print(\"--- ラベル ---\")\n",
        "print(digits.target)\n",
        "print(digits.target.shape)\n",
        "\n",
        "# 画像と正解値の表示\n",
        "images = digits.images\n",
        "labels = digits.target\n",
        "for i in range(10):\n",
        "    plt.subplot(2, 5, i + 1)  # 2行5列、i+1の位置\n",
        "    plt.imshow(images[i], cmap=\"Greys\")\n",
        "    plt.axis(\"off\")\n",
        "    plt.title(\"Label: \" +  str(labels[i]))\n",
        "plt.show()"
      ],
      "execution_count": null,
      "outputs": []
    },
    {
      "cell_type": "code",
      "metadata": {
        "id": "R0vglTuDKp2X",
        "colab": {
          "base_uri": "https://localhost:8080/",
          "height": 546
        },
        "outputId": "88dceac9-eaf4-48b2-bc6c-0f5531ba81ad"
      },
      "source": [
        "# コード練習用\n",
        "from sklearn import datasets\n",
        "from sklearn import svm\n",
        "import matplotlib.pyplot as plt\n",
        "\n",
        "# 数字画像データの読み込み\n",
        "digits = datasets.load_digits()\n",
        "\n",
        "print(\"--- 画像データ ---\")\n",
        "print(digits.images[0])\n",
        "print(digits.images.shape)\n",
        "print(\"--- 1次元画像データ ---\")\n",
        "print(digits.data[0])\n",
        "print(digits.data.shape)\n",
        "print(\"--- ラベル ---\")\n",
        "print(digits.target)\n",
        "print(digits.target.shape)\n",
        "\n",
        "# 画像と正解値の表示\n",
        "images = digits.images\n",
        "labels = digits.target\n",
        "for i in range(10):\n",
        "    plt.subplot(2, 5, i + 1)  # 2行5列、i+1の位置\n",
        "    plt.imshow(images[i], cmap=\"Greys\")\n",
        "    plt.axis(\"off\")\n",
        "    plt.title(\"Label: \" +  str(labels[i]))\n",
        "plt.show()"
      ],
      "execution_count": 1,
      "outputs": [
        {
          "output_type": "stream",
          "text": [
            "--- 画像データ ---\n",
            "[[ 0.  0.  5. 13.  9.  1.  0.  0.]\n",
            " [ 0.  0. 13. 15. 10. 15.  5.  0.]\n",
            " [ 0.  3. 15.  2.  0. 11.  8.  0.]\n",
            " [ 0.  4. 12.  0.  0.  8.  8.  0.]\n",
            " [ 0.  5.  8.  0.  0.  9.  8.  0.]\n",
            " [ 0.  4. 11.  0.  1. 12.  7.  0.]\n",
            " [ 0.  2. 14.  5. 10. 12.  0.  0.]\n",
            " [ 0.  0.  6. 13. 10.  0.  0.  0.]]\n",
            "(1797, 8, 8)\n",
            "--- 1次元画像データ ---\n",
            "[ 0.  0.  5. 13.  9.  1.  0.  0.  0.  0. 13. 15. 10. 15.  5.  0.  0.  3.\n",
            " 15.  2.  0. 11.  8.  0.  0.  4. 12.  0.  0.  8.  8.  0.  0.  5.  8.  0.\n",
            "  0.  9.  8.  0.  0.  4. 11.  0.  1. 12.  7.  0.  0.  2. 14.  5. 10. 12.\n",
            "  0.  0.  0.  0.  6. 13. 10.  0.  0.  0.]\n",
            "(1797, 64)\n",
            "--- ラベル ---\n",
            "[0 1 2 ... 8 9 8]\n",
            "(1797,)\n"
          ],
          "name": "stdout"
        },
        {
          "output_type": "display_data",
          "data": {
            "image/png": "[encoded data removed]",
            "text/plain": [
              "<Figure size 432x288 with 10 Axes>"
            ]
          },
          "metadata": {
            "tags": [],
            "needs_background": "light"
          }
        }
      ]
    },
    {
      "cell_type": "markdown",
      "metadata": {
        "id": "gQ9MgHBcha6I"
      },
      "source": [
        "## ● 手書き数字の分類\n",
        "手書き数字のデータを使ってサポートベクターマシンを訓練し、未知の手書き文字を分類します。  \n",
        "データ全体を`train_test_split`を使って訓練データとテストデータに分割します。  \n",
        "そして、訓練用データを使ってサポートベクターマシンを訓練し、テストデータはこの性能を測るための未知のデータとします。  \n",
        "\n"
      ]
    },
    {
      "cell_type": "code",
      "metadata": {
        "id": "ZV3H7t9iBdmR"
      },
      "source": [
        "from sklearn import datasets\n",
        "from sklearn import svm\n",
        "from sklearn.model_selection import train_test_split\n",
        "from sklearn import metrics\n",
        "import matplotlib.pyplot as plt\n",
        "\n",
        "# 訓練データとテストデータに分割\n",
        "digits = datasets.load_digits()\n",
        "x_train, x_test, t_train, t_test = train_test_split(digits.data, digits.target)  # 75％がテストデータ\n",
        "\n",
        "clf = svm.SVC()  # サポートベクターマシーン\n",
        "clf.fit(x_train, t_train)  # 訓練\n",
        "\n",
        "y_test = clf.predict(x_test)  # テストデータで予測\n",
        "print(metrics.classification_report(t_test, y_test))  # 正解率など\n",
        "print(metrics.confusion_matrix(t_test, y_test))  # 行:正解、列:予測\n",
        "\n",
        "# 予測結果と画像の対応\n",
        "images = digits.images[:10]  # 最初の10枚\n",
        "y_10 = clf.predict(digits.data[:10])\n",
        "for i in range(10):\n",
        "    plt.subplot(2, 5, i + 1)  # 2行5列、i+1の位置\n",
        "    plt.imshow(images[i], cmap=\"Greys\")\n",
        "    plt.axis(\"off\")\n",
        "    plt.title(\"Gues: \" +  str(y_10[i]))\n",
        "plt.show()"
      ],
      "execution_count": null,
      "outputs": []
    },
    {
      "cell_type": "code",
      "metadata": {
        "id": "zTdrDkYa9QeM",
        "colab": {
          "base_uri": "https://localhost:8080/",
          "height": 682
        },
        "outputId": "e4c0b7cf-9cdd-4934-e5c4-d6e2732f0307"
      },
      "source": [
        "# コード練習用\n",
        "from sklearn import datasets\n",
        "from sklearn import svm\n",
        "from sklearn.model_selection import train_test_split\n",
        "from sklearn import metrics\n",
        "import matplotlib.pyplot as plt\n",
        "\n",
        "digits = datasets.load_digits()\n",
        "x_train, x_test, t_train, t_test = train_test_split(digits.data, digits.target)\n",
        "\n",
        "clf = svm.SVC() \n",
        "clf.fit(x_train, t_train)\n",
        "\n",
        "y_test = clf.predict(x_test) \n",
        "print(metrics.classification_report(t_test, y_test)) \n",
        "print(metrics.confusion_matrix(t_test, y_test))\n",
        "\n",
        "images = digits.images[:10]  \n",
        "y_10 = clf.predict(digits.data[:10])\n",
        "for i in range(10):\n",
        "    plt.subplot(2, 5, i + 1)  \n",
        "    plt.imshow(images[i], cmap=\"Greys\")\n",
        "    plt.axis(\"off\")\n",
        "    plt.title(\"Gues: \" +  str(y_10[i]))\n",
        "plt.show()"
      ],
      "execution_count": 3,
      "outputs": [
        {
          "output_type": "stream",
          "text": [
            "              precision    recall  f1-score   support\n",
            "\n",
            "           0       1.00      1.00      1.00        50\n",
            "           1       0.96      1.00      0.98        48\n",
            "           2       1.00      1.00      1.00        46\n",
            "           3       0.97      1.00      0.99        37\n",
            "           4       1.00      1.00      1.00        35\n",
            "           5       1.00      0.98      0.99        43\n",
            "           6       0.98      1.00      0.99        50\n",
            "           7       1.00      1.00      1.00        47\n",
            "           8       0.97      0.95      0.96        40\n",
            "           9       1.00      0.96      0.98        54\n",
            "\n",
            "    accuracy                           0.99       450\n",
            "   macro avg       0.99      0.99      0.99       450\n",
            "weighted avg       0.99      0.99      0.99       450\n",
            "\n",
            "[[50  0  0  0  0  0  0  0  0  0]\n",
            " [ 0 48  0  0  0  0  0  0  0  0]\n",
            " [ 0  0 46  0  0  0  0  0  0  0]\n",
            " [ 0  0  0 37  0  0  0  0  0  0]\n",
            " [ 0  0  0  0 35  0  0  0  0  0]\n",
            " [ 0  0  0  0  0 42  1  0  0  0]\n",
            " [ 0  0  0  0  0  0 50  0  0  0]\n",
            " [ 0  0  0  0  0  0  0 47  0  0]\n",
            " [ 0  2  0  0  0  0  0  0 38  0]\n",
            " [ 0  0  0  1  0  0  0  0  1 52]]\n"
          ],
          "name": "stdout"
        },
        {
          "output_type": "display_data",
          "data": {
            "image/png": "[encoded data removed]",
            "text/plain": [
              "<Figure size 432x288 with 10 Axes>"
            ]
          },
          "metadata": {
            "tags": [],
            "needs_background": "light"
          }
        }
      ]
    }
  ]
}